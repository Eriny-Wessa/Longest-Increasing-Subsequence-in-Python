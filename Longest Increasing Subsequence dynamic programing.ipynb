{
 "cells": [
  {
   "cell_type": "markdown",
   "metadata": {
    "id": "4GUAezVLt1DL"
   },
   "source": [
    "#Longest Increasing Subsequence in DP"
   ]
  },
  {
   "cell_type": "code",
   "execution_count": 1,
   "metadata": {
    "id": "DMj1Bv5RLhzx"
   },
   "outputs": [],
   "source": [
    "import datetime\n",
    "import random\n",
    "import numpy as np"
   ]
  },
  {
   "cell_type": "code",
   "execution_count": 2,
   "metadata": {
    "id": "W73qlfxytkRl"
   },
   "outputs": [],
   "source": [
    "def lis(arr):\n",
    "  n = len(arr)\n",
    "\n",
    "  # Declare the list (array) for LIS and\n",
    "  # initialize LIS values for all indexes\n",
    "  lis = [1]*n\n",
    "\n",
    "  # Compute optimized LIS values in bottom up manner\n",
    "  for i in range(1, n):\n",
    "    for j in range(0, i):\n",
    "      if arr[i] > arr[j] and lis[i] < lis[j] + 1:\n",
    "        lis[i] = lis[j]+1\n",
    "  # Initialize maximum to 0 to get\n",
    "  # the maximum of all LIS\n",
    "  maximum = 0\n",
    "\n",
    "  # Pick maximum of all LIS values\n",
    "  for i in range(n):\n",
    "    maximum = max(maximum, lis[i])\n",
    "\n",
    "  #return maximum\n",
    "\n"
   ]
  },
  {
   "cell_type": "code",
   "execution_count": 3,
   "metadata": {
    "id": "V9pOedzbLhz2"
   },
   "outputs": [],
   "source": [
    "def empericalAnalysis():\n",
    "    i = 0\n",
    "    time=[]\n",
    "    while i< 50:\n",
    "        array = np.random.randint(1,9999999,1000)\n",
    "        start_time =  datetime.datetime.now()\n",
    "\n",
    "        lis(array)    \n",
    "        \n",
    "        end_time =  datetime.datetime.now()\n",
    "        time_elapsed = (end_time - start_time)\n",
    "        time.append(int(time_elapsed.total_seconds() * 1000))\n",
    "        i=i+1\n",
    "    print(sum(time) / len(time))"
   ]
  },
  {
   "cell_type": "code",
   "execution_count": 4,
   "metadata": {
    "id": "GBCf5W9DuPkB"
   },
   "outputs": [],
   "source": [
    "def main():\n",
    "    arr =[50,3,10,7,40,80]\n",
    "    #[10, 22, 9, 33, 21, 50, 41, 60]\n",
    "    #[10, 22, 9, 33, 21, 50, 41, 60, 80] \n",
    "    #[10, 5, 8, 3, 9, 4, 12, 11]\n",
    "    #lis(arr)\n",
    "    empericalAnalysis()"
   ]
  },
  {
   "cell_type": "code",
   "execution_count": 5,
   "metadata": {
    "colab": {
     "base_uri": "https://localhost:8080/"
    },
    "id": "jT-zSaosuUP6",
    "outputId": "e93e549d-48ce-4453-cfbb-bf71a42d31be"
   },
   "outputs": [
    {
     "name": "stdout",
     "output_type": "stream",
     "text": [
      "82.22\n"
     ]
    }
   ],
   "source": [
    "if __name__ == \"__main__\":\n",
    "    main()"
   ]
  },
  {
   "cell_type": "code",
   "execution_count": null,
   "metadata": {
    "id": "e0cHAOJqLhz7"
   },
   "outputs": [],
   "source": []
  }
 ],
 "metadata": {
  "colab": {
   "collapsed_sections": [],
   "name": "Longest_Increasing_Subsequence (1).ipynb",
   "provenance": []
  },
  "kernelspec": {
   "display_name": "Python 3",
   "language": "python",
   "name": "python3"
  },
  "language_info": {
   "codemirror_mode": {
    "name": "ipython",
    "version": 3
   },
   "file_extension": ".py",
   "mimetype": "text/x-python",
   "name": "python",
   "nbconvert_exporter": "python",
   "pygments_lexer": "ipython3",
   "version": "3.8.8"
  }
 },
 "nbformat": 4,
 "nbformat_minor": 1
}
