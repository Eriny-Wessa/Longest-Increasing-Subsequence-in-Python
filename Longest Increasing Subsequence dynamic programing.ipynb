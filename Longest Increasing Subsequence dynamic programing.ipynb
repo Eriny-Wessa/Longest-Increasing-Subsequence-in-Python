{
 "cells": [
  {
   "cell_type": "markdown",
   "metadata": {
    "id": "4GUAezVLt1DL"
   },
   "source": [
    "#Longest Increasing Subsequence in DP\n"
   ]
  },
  {
   "cell_type": "code",
   "execution_count": 2,
   "metadata": {
    "id": "DMj1Bv5RLhzx"
   },
   "outputs": [],
   "source": [
    "import datetime\n",
    "import random\n",
    "import numpy as np\n",
    "import matplotlib.pyplot as plt\n"
   ]
  },
  {
   "cell_type": "code",
   "execution_count": 3,
   "metadata": {
    "id": "W73qlfxytkRl"
   },
   "outputs": [],
   "source": [
    "def lis(arr):\n",
    "    n = len(arr)\n",
    "\n",
    "    # Declare the list (array) for LIS and\n",
    "    # initialize LIS values for all indexes\n",
    "    lis = [1]*n\n",
    "\n",
    "    # Compute optimized LIS values in bottom up manner\n",
    "    for i in range(1, n):\n",
    "        for j in range(0, i):\n",
    "            if arr[i] > arr[j] and lis[i] < lis[j] + 1:\n",
    "                lis[i] = lis[j]+1\n",
    "    # Initialize maximum to 0 to get\n",
    "    # the maximum of all LIS\n",
    "    maximum = 0\n",
    "\n",
    "  # Pick maximum of all LIS values\n",
    "    for i in range(n):\n",
    "        maximum = max(maximum, lis[i])\n",
    "\n",
    "    return maximum\n",
    "\n"
   ]
  },
  {
   "cell_type": "code",
   "execution_count": 16,
   "metadata": {
    "id": "e0cHAOJqLhz7"
   },
   "outputs": [],
   "source": [
    "def empericalAnalysis2():\n",
    "    i = 0\n",
    "    time=[]\n",
    "    s=1\n",
    "    size=[]\n",
    "    while s< 10:\n",
    "        size.append(s*200)\n",
    "        s+=1\n",
    "    \n",
    "    i=0\n",
    "    while i < len(size):\n",
    "        array = np.random.randint(1,99999999,size[i])\n",
    "        timeinthissize=[]\n",
    "        k=1\n",
    "        while k <30:\n",
    "            start_time =  datetime.datetime.now()\n",
    "\n",
    "            lis(array)\n",
    "\n",
    "            end_time =  datetime.datetime.now()\n",
    "            time_elapsed = (end_time - start_time)\n",
    "            time_elapsed =int(time_elapsed.total_seconds() * 1000)\n",
    "            timeinthissize.append(time_elapsed)\n",
    "            k=k+1\n",
    "\n",
    "        time.append(sum(timeinthissize) / len(timeinthissize))\n",
    "        timeinthissize=[]\n",
    "        i=i+1\n",
    "\n",
    "    # x axis values\n",
    "    x = time\n",
    "    # corresponding y axis values\n",
    "    y =size\n",
    "\n",
    "    # plotting the points\n",
    "    plt.plot(y, x)\n",
    "\n",
    "    # naming the x axis\n",
    "    plt.xlabel('Proplem size')\n",
    "    # naming the y axis\n",
    "    plt.ylabel('computation time in secounds')\n",
    "\n",
    "    # giving a title to my graph\n",
    "    plt.title('dynamic programing')\n",
    "\n",
    "    # function to show the plot\n",
    "    plt.show()\n",
    "    print(array)\n",
    "    print()"
   ]
  },
  {
   "cell_type": "code",
   "execution_count": 17,
   "metadata": {
    "id": "GBCf5W9DuPkB"
   },
   "outputs": [],
   "source": [
    "def main():\n",
    "    arr =[50,3,10,7,40,80]\n",
    "    #[10, 22, 9, 33, 21, 50, 41, 60]\n",
    "    #[10, 22, 9, 33, 21, 50, 41, 60, 80] \n",
    "    #[10, 5, 8, 3, 9, 4, 12, 11]\n",
    "    #lis(arr)\n",
    "    empericalAnalysis2()"
   ]
  },
  {
   "cell_type": "code",
   "execution_count": 18,
   "metadata": {
    "colab": {
     "base_uri": "https://localhost:8080/"
    },
    "id": "jT-zSaosuUP6",
    "outputId": "e93e549d-48ce-4453-cfbb-bf71a42d31be"
   },
   "outputs": [
    {
     "data": {
      "image/png": "[encoded data removed]",
      "text/plain": [
       "<Figure size 432x288 with 1 Axes>"
      ]
     },
     "metadata": {
      "needs_background": "light"
     },
     "output_type": "display_data"
    },
    {
     "name": "stdout",
     "output_type": "stream",
     "text": [
      "[ 1081066 20667890 30365248 ... 98775517 25536447 42170574]\n",
      "\n"
     ]
    }
   ],
   "source": [
    "if __name__ == \"__main__\":\n",
    "    main()"
   ]
  },
  {
   "cell_type": "code",
   "execution_count": null,
   "metadata": {},
   "outputs": [],
   "source": []
  }
 ],
 "metadata": {
  "colab": {
   "collapsed_sections": [],
   "name": "Longest_Increasing_Subsequence (1).ipynb",
   "provenance": []
  },
  "kernelspec": {
   "display_name": "Python 3",
   "language": "python",
   "name": "python3"
  },
  "language_info": {
   "codemirror_mode": {
    "name": "ipython",
    "version": 3
   },
   "file_extension": ".py",
   "mimetype": "text/x-python",
   "name": "python",
   "nbconvert_exporter": "python",
   "pygments_lexer": "ipython3",
   "version": "3.8.8"
  }
 },
 "nbformat": 4,
 "nbformat_minor": 1
}
