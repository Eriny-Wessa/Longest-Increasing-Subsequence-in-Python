{
 "cells": [
  {
   "cell_type": "markdown",
   "metadata": {
    "id": "4GUAezVLt1DL"
   },
   "source": [
    "#Longest Increasing Subsequence in Brute Foce"
   ]
  },
  {
   "cell_type": "code",
   "execution_count": 4,
   "metadata": {},
   "outputs": [],
   "source": [
    "import datetime\n",
    "import random\n",
    "import numpy as np\n",
    "import matplotlib.pyplot as plt\n"
   ]
  },
  {
   "cell_type": "code",
   "execution_count": 5,
   "metadata": {
    "id": "W73qlfxytkRl"
   },
   "outputs": [],
   "source": [
    "def LIS(arr):\n",
    "    l = []\n",
    "    for i in range(0,len(arr)):\n",
    "        n = arr[i]\n",
    "        temp = [n]\n",
    "        for j in range(i+1,len(arr)):\n",
    "            if arr[j] > n:\n",
    "                temp.append(arr[j])\n",
    "                n=arr[j]\n",
    "        l.append(temp)\n",
    "\n",
    "    max = 0\n",
    "    for k in l:\n",
    "        if len(k) > max:\n",
    "            max = len(k)\n",
    "    return max\n"
   ]
  },
  {
   "cell_type": "code",
   "execution_count": 9,
   "metadata": {},
   "outputs": [],
   "source": [
    "def empericalAnalysis():\n",
    "    i = 0\n",
    "    time=[]\n",
    "    s=1\n",
    "    size=[]\n",
    "    while s< 10:\n",
    "        size.append(s*200)\n",
    "        s+=1\n",
    "    \n",
    "    i=0\n",
    "    while i < len(size):\n",
    "        array = np.random.randint(1,99999999,size[i])\n",
    "        timeinthissize=[]\n",
    "        k=1\n",
    "        while k <30:\n",
    "            start_time =  datetime.datetime.now()\n",
    "\n",
    "            LIS(array)\n",
    "\n",
    "            end_time =  datetime.datetime.now()\n",
    "            time_elapsed = (end_time - start_time)\n",
    "            time_elapsed =int(time_elapsed.total_seconds() * 1000)\n",
    "            timeinthissize.append(time_elapsed)\n",
    "            k=k+1\n",
    "\n",
    "        time.append(sum(timeinthissize) / len(timeinthissize))\n",
    "        timeinthissize=[]\n",
    "        i=i+1\n",
    "\n",
    "    # x axis values\n",
    "    x = time\n",
    "    # corresponding y axis values\n",
    "    y =size\n",
    "\n",
    "    # plotting the points\n",
    "    plt.plot(y, x)\n",
    "\n",
    "    # naming the x axis\n",
    "    plt.xlabel('Proplem size')\n",
    "    # naming the y axis\n",
    "    plt.ylabel('computation time in secounds')\n",
    "\n",
    "    # giving a title to my graph\n",
    "    plt.title('dynamic programing')\n",
    "\n",
    "    # function to show the plot\n",
    "    plt.show()"
   ]
  },
  {
   "cell_type": "code",
   "execution_count": 10,
   "metadata": {
    "id": "GBCf5W9DuPkB"
   },
   "outputs": [],
   "source": [
    "def main():\n",
    "    arr =[50,3,10,7,40,80]\n",
    "    #[10, 22, 9, 33, 21, 50, 41, 60]\n",
    "    #[10, 22, 9, 33, 21, 50, 41, 60, 80] \n",
    "    #[10, 5, 8, 3, 9, 4, 12, 11]\n",
    "    #LIS(arr)\n",
    "    empericalAnalysis()"
   ]
  },
  {
   "cell_type": "code",
   "execution_count": 11,
   "metadata": {
    "colab": {
     "base_uri": "https://localhost:8080/"
    },
    "id": "jT-zSaosuUP6",
    "outputId": "658e7ab7-0f00-4df8-dd9e-ba5c598c930d"
   },
   "outputs": [
    {
     "data": {
      "image/png": "[encoded data removed]",
      "text/plain": [
       "<Figure size 432x288 with 1 Axes>"
      ]
     },
     "metadata": {
      "needs_background": "light"
     },
     "output_type": "display_data"
    }
   ],
   "source": [
    "if __name__ == \"__main__\":\n",
    "    main()"
   ]
  },
  {
   "cell_type": "code",
   "execution_count": null,
   "metadata": {},
   "outputs": [],
   "source": []
  }
 ],
 "metadata": {
  "colab": {
   "collapsed_sections": [],
   "name": "Longest-Increasing-Subsequence.ipynb",
   "provenance": []
  },
  "kernelspec": {
   "display_name": "Python 3",
   "language": "python",
   "name": "python3"
  },
  "language_info": {
   "codemirror_mode": {
    "name": "ipython",
    "version": 3
   },
   "file_extension": ".py",
   "mimetype": "text/x-python",
   "name": "python",
   "nbconvert_exporter": "python",
   "pygments_lexer": "ipython3",
   "version": "3.8.8"
  }
 },
 "nbformat": 4,
 "nbformat_minor": 1
}
