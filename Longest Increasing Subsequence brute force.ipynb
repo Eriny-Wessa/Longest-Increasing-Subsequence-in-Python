{
 "cells": [
  {
   "cell_type": "markdown",
   "metadata": {
    "id": "4GUAezVLt1DL"
   },
   "source": [
    "#Longest Increasing Subsequence in Brute Foce"
   ]
  },
  {
   "cell_type": "code",
   "execution_count": 10,
   "metadata": {},
   "outputs": [],
   "source": [
    "import datetime\n",
    "import random\n",
    "import numpy as np\n",
    "import matplotlib.pyplot as plt\n"
   ]
  },
  {
   "cell_type": "code",
   "execution_count": 11,
   "metadata": {
    "id": "W73qlfxytkRl"
   },
   "outputs": [],
   "source": [
    "def LIS(arr):\n",
    "    l = []\n",
    "    for i in range(0,len(arr)):\n",
    "        n = arr[i]\n",
    "        temp = [n]\n",
    "        for j in range(i+1,len(arr)):\n",
    "            if arr[j] > n:\n",
    "                temp.append(arr[j])\n",
    "                n=arr[j]\n",
    "        l.append(temp)\n",
    "\n",
    "    max = 0\n",
    "    for k in l:\n",
    "        if len(k) > max:\n",
    "            max = len(k)\n",
    "    return max\n"
   ]
  },
  {
   "cell_type": "code",
   "execution_count": 15,
   "metadata": {},
   "outputs": [],
   "source": [
    "def empericalAnalysis():\n",
    "    i = 0\n",
    "    time=[]\n",
    "    s=1\n",
    "    size=[]\n",
    "    while s< 20:\n",
    "        size.append(s*200)\n",
    "        s+=1\n",
    "    \n",
    "    i=0\n",
    "    while i < len(size):\n",
    "        array = np.random.randint(1,99999999,size[i])\n",
    "        timeinthissize=[]\n",
    "        k=1\n",
    "        while k <50:\n",
    "            start_time =  datetime.datetime.now()\n",
    "\n",
    "            LIS(array)\n",
    "\n",
    "            end_time =  datetime.datetime.now()\n",
    "            time_elapsed = (end_time - start_time)\n",
    "            time_elapsed =int(time_elapsed.total_seconds() * 1000)\n",
    "            timeinthissize.append(time_elapsed)\n",
    "            k=k+1\n",
    "\n",
    "        time.append(sum(timeinthissize) / len(timeinthissize))\n",
    "        timeinthissize=[]\n",
    "        i=i+1\n",
    "\n",
    "    # x axis values\n",
    "    x = time\n",
    "    # corresponding y axis values\n",
    "    y =size\n",
    "\n",
    "    # plotting the points\n",
    "    plt.plot(y, x)\n",
    "\n",
    "    # naming the x axis\n",
    "    plt.xlabel('Proplem size')\n",
    "    # naming the y axis\n",
    "    plt.ylabel('computation time in secounds')\n",
    "\n",
    "    # giving a title to my graph\n",
    "    plt.title('dynamic programing')\n",
    "\n",
    "    # function to show the plot\n",
    "    plt.show()"
   ]
  },
  {
   "cell_type": "code",
   "execution_count": 16,
   "metadata": {
    "id": "GBCf5W9DuPkB"
   },
   "outputs": [],
   "source": [
    "def main():\n",
    "    arr =[50,3,10,7,40,80]\n",
    "    #[10, 22, 9, 33, 21, 50, 41, 60]\n",
    "    #[10, 22, 9, 33, 21, 50, 41, 60, 80] \n",
    "    #[10, 5, 8, 3, 9, 4, 12, 11]\n",
    "    #LIS(arr)\n",
    "    empericalAnalysis()"
   ]
  },
  {
   "cell_type": "code",
   "execution_count": 17,
   "metadata": {
    "colab": {
     "base_uri": "https://localhost:8080/"
    },
    "id": "jT-zSaosuUP6",
    "outputId": "658e7ab7-0f00-4df8-dd9e-ba5c598c930d"
   },
   "outputs": [
    {
     "ename": "KeyboardInterrupt",
     "evalue": "",
     "output_type": "error",
     "traceback": [
      "\u001b[1;31m---------------------------------------------------------------------------\u001b[0m",
      "\u001b[1;31mKeyboardInterrupt\u001b[0m                         Traceback (most recent call last)",
      "\u001b[1;32m<ipython-input-17-972361fa1b80>\u001b[0m in \u001b[0;36m<module>\u001b[1;34m\u001b[0m\n\u001b[0;32m      1\u001b[0m \u001b[1;32mif\u001b[0m \u001b[0m__name__\u001b[0m \u001b[1;33m==\u001b[0m \u001b[1;34m\"__main__\"\u001b[0m\u001b[1;33m:\u001b[0m\u001b[1;33m\u001b[0m\u001b[1;33m\u001b[0m\u001b[0m\n\u001b[1;32m----> 2\u001b[1;33m     \u001b[0mmain\u001b[0m\u001b[1;33m(\u001b[0m\u001b[1;33m)\u001b[0m\u001b[1;33m\u001b[0m\u001b[1;33m\u001b[0m\u001b[0m\n\u001b[0m",
      "\u001b[1;32m<ipython-input-16-f997314a5c12>\u001b[0m in \u001b[0;36mmain\u001b[1;34m()\u001b[0m\n\u001b[0;32m      5\u001b[0m     \u001b[1;31m#[10, 5, 8, 3, 9, 4, 12, 11]\u001b[0m\u001b[1;33m\u001b[0m\u001b[1;33m\u001b[0m\u001b[1;33m\u001b[0m\u001b[0m\n\u001b[0;32m      6\u001b[0m     \u001b[1;31m#LIS(arr)\u001b[0m\u001b[1;33m\u001b[0m\u001b[1;33m\u001b[0m\u001b[1;33m\u001b[0m\u001b[0m\n\u001b[1;32m----> 7\u001b[1;33m     \u001b[0mempericalAnalysis\u001b[0m\u001b[1;33m(\u001b[0m\u001b[1;33m)\u001b[0m\u001b[1;33m\u001b[0m\u001b[1;33m\u001b[0m\u001b[0m\n\u001b[0m",
      "\u001b[1;32m<ipython-input-15-097ff5cb401b>\u001b[0m in \u001b[0;36mempericalAnalysis\u001b[1;34m()\u001b[0m\n\u001b[0;32m     16\u001b[0m             \u001b[0mstart_time\u001b[0m \u001b[1;33m=\u001b[0m  \u001b[0mdatetime\u001b[0m\u001b[1;33m.\u001b[0m\u001b[0mdatetime\u001b[0m\u001b[1;33m.\u001b[0m\u001b[0mnow\u001b[0m\u001b[1;33m(\u001b[0m\u001b[1;33m)\u001b[0m\u001b[1;33m\u001b[0m\u001b[1;33m\u001b[0m\u001b[0m\n\u001b[0;32m     17\u001b[0m \u001b[1;33m\u001b[0m\u001b[0m\n\u001b[1;32m---> 18\u001b[1;33m             \u001b[0mLIS\u001b[0m\u001b[1;33m(\u001b[0m\u001b[0marray\u001b[0m\u001b[1;33m)\u001b[0m\u001b[1;33m\u001b[0m\u001b[1;33m\u001b[0m\u001b[0m\n\u001b[0m\u001b[0;32m     19\u001b[0m \u001b[1;33m\u001b[0m\u001b[0m\n\u001b[0;32m     20\u001b[0m             \u001b[0mend_time\u001b[0m \u001b[1;33m=\u001b[0m  \u001b[0mdatetime\u001b[0m\u001b[1;33m.\u001b[0m\u001b[0mdatetime\u001b[0m\u001b[1;33m.\u001b[0m\u001b[0mnow\u001b[0m\u001b[1;33m(\u001b[0m\u001b[1;33m)\u001b[0m\u001b[1;33m\u001b[0m\u001b[1;33m\u001b[0m\u001b[0m\n",
      "\u001b[1;32m<ipython-input-11-3b8ad5f4f93a>\u001b[0m in \u001b[0;36mLIS\u001b[1;34m(arr)\u001b[0m\n\u001b[0;32m      5\u001b[0m         \u001b[0mtemp\u001b[0m \u001b[1;33m=\u001b[0m \u001b[1;33m[\u001b[0m\u001b[0mn\u001b[0m\u001b[1;33m]\u001b[0m\u001b[1;33m\u001b[0m\u001b[1;33m\u001b[0m\u001b[0m\n\u001b[0;32m      6\u001b[0m         \u001b[1;32mfor\u001b[0m \u001b[0mj\u001b[0m \u001b[1;32min\u001b[0m \u001b[0mrange\u001b[0m\u001b[1;33m(\u001b[0m\u001b[0mi\u001b[0m\u001b[1;33m+\u001b[0m\u001b[1;36m1\u001b[0m\u001b[1;33m,\u001b[0m\u001b[0mlen\u001b[0m\u001b[1;33m(\u001b[0m\u001b[0marr\u001b[0m\u001b[1;33m)\u001b[0m\u001b[1;33m)\u001b[0m\u001b[1;33m:\u001b[0m\u001b[1;33m\u001b[0m\u001b[1;33m\u001b[0m\u001b[0m\n\u001b[1;32m----> 7\u001b[1;33m             \u001b[1;32mif\u001b[0m \u001b[0marr\u001b[0m\u001b[1;33m[\u001b[0m\u001b[0mj\u001b[0m\u001b[1;33m]\u001b[0m \u001b[1;33m>\u001b[0m \u001b[0mn\u001b[0m\u001b[1;33m:\u001b[0m\u001b[1;33m\u001b[0m\u001b[1;33m\u001b[0m\u001b[0m\n\u001b[0m\u001b[0;32m      8\u001b[0m                 \u001b[0mtemp\u001b[0m\u001b[1;33m.\u001b[0m\u001b[0mappend\u001b[0m\u001b[1;33m(\u001b[0m\u001b[0marr\u001b[0m\u001b[1;33m[\u001b[0m\u001b[0mj\u001b[0m\u001b[1;33m]\u001b[0m\u001b[1;33m)\u001b[0m\u001b[1;33m\u001b[0m\u001b[1;33m\u001b[0m\u001b[0m\n\u001b[0;32m      9\u001b[0m                 \u001b[0mn\u001b[0m\u001b[1;33m=\u001b[0m\u001b[0marr\u001b[0m\u001b[1;33m[\u001b[0m\u001b[0mj\u001b[0m\u001b[1;33m]\u001b[0m\u001b[1;33m\u001b[0m\u001b[1;33m\u001b[0m\u001b[0m\n",
      "\u001b[1;31mKeyboardInterrupt\u001b[0m: "
     ]
    }
   ],
   "source": [
    "if __name__ == \"__main__\":\n",
    "    main()"
   ]
  },
  {
   "cell_type": "code",
   "execution_count": null,
   "metadata": {},
   "outputs": [],
   "source": []
  }
 ],
 "metadata": {
  "colab": {
   "collapsed_sections": [],
   "name": "Longest-Increasing-Subsequence.ipynb",
   "provenance": []
  },
  "kernelspec": {
   "display_name": "Python 3",
   "language": "python",
   "name": "python3"
  },
  "language_info": {
   "codemirror_mode": {
    "name": "ipython",
    "version": 3
   },
   "file_extension": ".py",
   "mimetype": "text/x-python",
   "name": "python",
   "nbconvert_exporter": "python",
   "pygments_lexer": "ipython3",
   "version": "3.8.8"
  }
 },
 "nbformat": 4,
 "nbformat_minor": 1
}
