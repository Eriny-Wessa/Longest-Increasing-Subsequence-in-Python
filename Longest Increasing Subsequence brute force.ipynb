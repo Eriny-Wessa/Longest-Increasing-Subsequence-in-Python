{
 "cells": [
  {
   "cell_type": "markdown",
   "metadata": {
    "id": "4GUAezVLt1DL"
   },
   "source": [
    "#Longest Increasing Subsequence in Brute Foce"
   ]
  },
  {
   "cell_type": "code",
   "execution_count": 24,
   "metadata": {},
   "outputs": [],
   "source": [
    "import datetime\n",
    "import random\n",
    "import numpy as np"
   ]
  },
  {
   "cell_type": "code",
   "execution_count": 25,
   "metadata": {
    "id": "W73qlfxytkRl"
   },
   "outputs": [],
   "source": [
    "def LIS(arr):\n",
    "    l = []\n",
    "    for i in range(0,len(arr)):\n",
    "        n = arr[i]\n",
    "        temp = [n]\n",
    "        for j in range(i+1,len(arr)):\n",
    "            if arr[j] > n:\n",
    "                temp.append(arr[j])\n",
    "                n=arr[j]\n",
    "        l.append(temp)\n",
    "\n",
    "    max = 0\n",
    "    for k in l:\n",
    "        if len(k) > max:\n",
    "            max = len(k)\n",
    "\n"
   ]
  },
  {
   "cell_type": "code",
   "execution_count": 26,
   "metadata": {},
   "outputs": [],
   "source": [
    "def empericalAnalysis():\n",
    "    i = 0\n",
    "    time=[]\n",
    "    while i< 50:\n",
    "        array = np.random.randint(1,9999999,1000)\n",
    "        start_time =  datetime.datetime.now()\n",
    "\n",
    "        LIS(array)    \n",
    "        \n",
    "        end_time =  datetime.datetime.now()\n",
    "        time_elapsed = (end_time - start_time)\n",
    "        time.append(int(time_elapsed.total_seconds() * 1000))\n",
    "        i=i+1\n",
    "    print(sum(time) / len(time))"
   ]
  },
  {
   "cell_type": "code",
   "execution_count": 27,
   "metadata": {
    "id": "GBCf5W9DuPkB"
   },
   "outputs": [],
   "source": [
    "def main():\n",
    "    arr =[50,3,10,7,40,80]\n",
    "    #[10, 22, 9, 33, 21, 50, 41, 60]\n",
    "    #[10, 22, 9, 33, 21, 50, 41, 60, 80] \n",
    "    #[10, 5, 8, 3, 9, 4, 12, 11]\n",
    "    LIS(arr)\n",
    "    #empericalAnalysis()"
   ]
  },
  {
   "cell_type": "code",
   "execution_count": 28,
   "metadata": {
    "colab": {
     "base_uri": "https://localhost:8080/"
    },
    "id": "jT-zSaosuUP6",
    "outputId": "658e7ab7-0f00-4df8-dd9e-ba5c598c930d"
   },
   "outputs": [
    {
     "name": "stdout",
     "output_type": "stream",
     "text": [
      "58.34\n"
     ]
    }
   ],
   "source": [
    "if __name__ == \"__main__\":\n",
    "    main()"
   ]
  },
  {
   "cell_type": "markdown",
   "metadata": {},
   "source": [
    "avarage time for 50 runs of array of size 1000 is 58.34"
   ]
  },
  {
   "cell_type": "code",
   "execution_count": null,
   "metadata": {},
   "outputs": [],
   "source": []
  }
 ],
 "metadata": {
  "colab": {
   "collapsed_sections": [],
   "name": "Longest-Increasing-Subsequence.ipynb",
   "provenance": []
  },
  "kernelspec": {
   "display_name": "Python 3",
   "language": "python",
   "name": "python3"
  },
  "language_info": {
   "codemirror_mode": {
    "name": "ipython",
    "version": 3
   },
   "file_extension": ".py",
   "mimetype": "text/x-python",
   "name": "python",
   "nbconvert_exporter": "python",
   "pygments_lexer": "ipython3",
   "version": "3.8.8"
  }
 },
 "nbformat": 4,
 "nbformat_minor": 1
}
