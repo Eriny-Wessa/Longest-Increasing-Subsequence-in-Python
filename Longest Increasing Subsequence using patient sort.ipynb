{
 "cells": [
  {
   "cell_type": "markdown",
   "id": "2582e2e8",
   "metadata": {},
   "source": [
    "https://www.geeksforgeeks.org/longest-monotonically-increasing-subsequence-size-n-log-n/"
   ]
  },
  {
   "cell_type": "markdown",
   "id": "083b6a0f",
   "metadata": {},
   "source": [
    "Python program to find length of longest increasing subsequence in O(n Log n) time\n",
    "\n",
    "Binary search (note boundaries in the caller)\n",
    "\n",
    "A[] is ceilIndex in the caller"
   ]
  },
  {
   "cell_type": "code",
   "execution_count": 24,
   "id": "48264b0b",
   "metadata": {},
   "outputs": [],
   "source": [
    "import datetime\n",
    "import random\n",
    "import numpy as np"
   ]
  },
  {
   "cell_type": "code",
   "execution_count": 25,
   "id": "684f5290",
   "metadata": {},
   "outputs": [],
   "source": [
    "def CeilIndex(A, l, r, key):\n",
    "\n",
    "    while (r - l > 1):\n",
    "    \n",
    "        m = l + (r - l)//2\n",
    "        if (A[m] >= key):\n",
    "            r = m\n",
    "        else:\n",
    "            l = m\n",
    "    return r\n",
    " "
   ]
  },
  {
   "cell_type": "code",
   "execution_count": 47,
   "id": "dab78d70",
   "metadata": {},
   "outputs": [],
   "source": [
    "def LongestIncreasingSubsequenceLength(A, size):\n",
    "\n",
    "    # Add boundary case,\n",
    "    # when array size is one\n",
    "    if size == 0:\n",
    "        return 0\n",
    "    if size == 1:\n",
    "        return 1\n",
    " \n",
    "    tailTable = [0 for i in range(size + 1)]\n",
    "    len = 0 # always points empty slot\n",
    "    \n",
    "    tailTable[0] = A[0]\n",
    "    len = 1\n",
    "    for i in range(1, size):\n",
    "    \n",
    "        if (A[i] < tailTable[0]):\n",
    "\n",
    "            # new smallest value\n",
    "            tailTable[0] = A[i]\n",
    " \n",
    "        elif (A[i] > tailTable[len-1]):\n",
    "\n",
    "            # A[i] wants to extend\n",
    "            # largest subsequence\n",
    "            tailTable[len] = A[i]\n",
    "            len+= 1\n",
    " \n",
    "        else:\n",
    "            # A[i] wants to be current\n",
    "            # end candidate of an existing\n",
    "            # subsequence. It will replace\n",
    "            # ceil value in tailTable\n",
    "            tailTable[CeilIndex(tailTable, -1, len-1, A[i])] = A[i]\n",
    "        #print(tailTable)\n",
    " \n",
    "    return len\n"
   ]
  },
  {
   "cell_type": "markdown",
   "id": "7802d994",
   "metadata": {},
   "source": [
    "Complexity:\n",
    "The loop runs for N elements. In the worst case (what is worst case input?), we may end up querying ceil value using binary search (log i) for many A[i].\n",
    "Therefore, T(n) < O( log N! )  = O(N log N). Analyse to ensure that the upper and lower bounds are also O( N log N ). The complexity is THETA (N log N).\n"
   ]
  },
  {
   "cell_type": "code",
   "execution_count": 48,
   "id": "d006c326",
   "metadata": {},
   "outputs": [],
   "source": [
    "def empericalAnalysis():\n",
    "    i = 0\n",
    "    time=[]\n",
    "    while i< 50:\n",
    "        array = np.random.randint(1,9999999,1000)\n",
    "        start_time =  datetime.datetime.now()\n",
    "\n",
    "        LongestIncreasingSubsequenceLength(array,len(array))\n",
    "        \n",
    "        end_time =  datetime.datetime.now()\n",
    "        time_elapsed = (end_time - start_time)\n",
    "        time.append(int(time_elapsed.total_seconds() * 1000))\n",
    "        i=i+1\n",
    "    print(sum(time) / len(time))"
   ]
  },
  {
   "cell_type": "code",
   "execution_count": 49,
   "id": "35bbf93a",
   "metadata": {},
   "outputs": [
    {
     "name": "stdout",
     "output_type": "stream",
     "text": [
      "1.04\n"
     ]
    }
   ],
   "source": [
    "empericalAnalysis()"
   ]
  },
  {
   "cell_type": "code",
   "execution_count": 51,
   "id": "21f4d327",
   "metadata": {},
   "outputs": [
    {
     "name": "stdout",
     "output_type": "stream",
     "text": [
      "Length of Longest Increasing Subsequence is  4\n"
     ]
    }
   ],
   "source": [
    "\n",
    "# Driver program to\n",
    "# test above function\n",
    "\n",
    "A =[10,9,2,5,3,7,101,18]\n",
    "n = len(A)\n",
    "\n",
    "print(\"Length of Longest Increasing Subsequence is \",\n",
    "       LongestIncreasingSubsequenceLength(A, n))\n"
   ]
  },
  {
   "cell_type": "code",
   "execution_count": null,
   "id": "d8e8c915",
   "metadata": {},
   "outputs": [],
   "source": []
  },
  {
   "cell_type": "code",
   "execution_count": null,
   "id": "c515c394",
   "metadata": {},
   "outputs": [],
   "source": []
  }
 ],
 "metadata": {
  "kernelspec": {
   "display_name": "Python 3",
   "language": "python",
   "name": "python3"
  },
  "language_info": {
   "codemirror_mode": {
    "name": "ipython",
    "version": 3
   },
   "file_extension": ".py",
   "mimetype": "text/x-python",
   "name": "python",
   "nbconvert_exporter": "python",
   "pygments_lexer": "ipython3",
   "version": "3.8.8"
  }
 },
 "nbformat": 4,
 "nbformat_minor": 5
}
