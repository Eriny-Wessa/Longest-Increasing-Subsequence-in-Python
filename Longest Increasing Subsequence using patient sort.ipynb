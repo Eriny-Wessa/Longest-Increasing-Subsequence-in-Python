{
 "cells": [
  {
   "cell_type": "markdown",
   "id": "2582e2e8",
   "metadata": {},
   "source": [
    "https://www.geeksforgeeks.org/longest-monotonically-increasing-subsequence-size-n-log-n/"
   ]
  },
  {
   "cell_type": "markdown",
   "id": "083b6a0f",
   "metadata": {},
   "source": [
    "Python program to find length of longest increasing subsequence in O(n Log n) time\n",
    "\n",
    "Binary search (note boundaries in the caller)\n",
    "\n",
    "A[] is ceilIndex in the caller"
   ]
  },
  {
   "cell_type": "code",
   "execution_count": 1,
   "id": "48264b0b",
   "metadata": {},
   "outputs": [],
   "source": [
    "import datetime\n",
    "import random\n",
    "import numpy as np\n",
    "import matplotlib.pyplot as plt\n"
   ]
  },
  {
   "cell_type": "code",
   "execution_count": 2,
   "id": "684f5290",
   "metadata": {},
   "outputs": [],
   "source": [
    "def CeilIndex(A, l, r, key):\n",
    "\n",
    "    while (r - l > 1):\n",
    "    \n",
    "        m = l + (r - l)//2\n",
    "        if (A[m] >= key):\n",
    "            r = m\n",
    "        else:\n",
    "            l = m\n",
    "    return r\n",
    " "
   ]
  },
  {
   "cell_type": "code",
   "execution_count": 3,
   "id": "dab78d70",
   "metadata": {},
   "outputs": [],
   "source": [
    "def LongestIncreasingSubsequenceLength(A, size):\n",
    "\n",
    "    # Add boundary case,\n",
    "    # when array size is one\n",
    "    if size == 0:\n",
    "        return 0\n",
    "    if size == 1:\n",
    "        return 1\n",
    " \n",
    "    tailTable = [0 for i in range(size + 1)]\n",
    "    len = 0 # always points empty slot\n",
    "    \n",
    "    tailTable[0] = A[0]\n",
    "    len = 1\n",
    "    for i in range(1, size):\n",
    "    \n",
    "        if (A[i] < tailTable[0]):\n",
    "\n",
    "            # new smallest value\n",
    "            tailTable[0] = A[i]\n",
    " \n",
    "        elif (A[i] > tailTable[len-1]):\n",
    "\n",
    "            # A[i] wants to extend\n",
    "            # largest subsequence\n",
    "            tailTable[len] = A[i]\n",
    "            len+= 1\n",
    " \n",
    "        else:\n",
    "            # A[i] wants to be current\n",
    "            # end candidate of an existing\n",
    "            # subsequence. It will replace\n",
    "            # ceil value in tailTable\n",
    "            tailTable[CeilIndex(tailTable, -1, len-1, A[i])] = A[i]\n",
    "        #print(tailTable)\n",
    "        \n",
    "    return len\n"
   ]
  },
  {
   "cell_type": "markdown",
   "id": "7802d994",
   "metadata": {},
   "source": [
    "Complexity:\n",
    "The loop runs for N elements. In the worst case (what is worst case input?), we may end up querying ceil value using binary search (log i) for many A[i].\n",
    "Therefore, T(n) < O( log N! )  = O(N log N). Analyse to ensure that the upper and lower bounds are also O( N log N ). The complexity is THETA (N log N).\n"
   ]
  },
  {
   "cell_type": "code",
   "execution_count": 4,
   "id": "21f4d327",
   "metadata": {},
   "outputs": [
    {
     "name": "stdout",
     "output_type": "stream",
     "text": [
      "Length of Longest Increasing Subsequence is  3\n"
     ]
    }
   ],
   "source": [
    "\n",
    "# Driver program to\n",
    "# test above function\n",
    "\n",
    "#A =[10,9,2,5,3,7,101,18]   \n",
    "# 4\n",
    "\n",
    "#A =[0,8,4,12,2,10,6,14,1,9,5,13,3,11,7,15]\n",
    "#6\n",
    "\n",
    "A=[5,8,3,7,9,1]\n",
    "#3\n",
    "\n",
    "\n",
    "\n",
    "n = len(A)\n",
    "#n=16\n",
    "print(\"Length of Longest Increasing Subsequence is \",\n",
    "       LongestIncreasingSubsequenceLength(A, n))\n"
   ]
  },
  {
   "cell_type": "code",
   "execution_count": null,
   "id": "d8e8c915",
   "metadata": {},
   "outputs": [],
   "source": []
  },
  {
   "cell_type": "code",
   "execution_count": 38,
   "id": "c515c394",
   "metadata": {},
   "outputs": [],
   "source": [
    "def empericalAnalysis2():\n",
    "    i = 0\n",
    "    time=[]\n",
    "    s=1\n",
    "    size=[]\n",
    "    while s< 10:\n",
    "        size.append(s*200)\n",
    "        s+=1\n",
    "    \n",
    "    i=0\n",
    "    while i < len(size):\n",
    "        array = np.random.randint(1,99999999,size[i])\n",
    "        timeinthissize=[]\n",
    "        k=1\n",
    "        while k <30:\n",
    "            start_time =  datetime.datetime.now()\n",
    "\n",
    "            LongestIncreasingSubsequenceLength(array,len(array))\n",
    "\n",
    "            end_time =  datetime.datetime.now()\n",
    "            time_elapsed = (end_time - start_time)\n",
    "            time_elapsed =int(time_elapsed.total_seconds() * 1000)\n",
    "            timeinthissize.append(time_elapsed)\n",
    "            k=k+1\n",
    "\n",
    "        time.append(sum(timeinthissize) / len(timeinthissize))\n",
    "        timeinthissize=[]\n",
    "        i=i+1\n",
    "\n",
    "    # x axis values\n",
    "    x = time\n",
    "    # corresponding y axis values\n",
    "    y =size\n",
    "\n",
    "    # plotting the points\n",
    "    plt.plot(y, x)\n",
    "\n",
    "    # naming the x axis\n",
    "    plt.xlabel('Proplem size')\n",
    "    # naming the y axis\n",
    "    plt.ylabel('computation time in secounds')\n",
    "\n",
    "    # giving a title to my graph\n",
    "    plt.title('patient sort')\n",
    "\n",
    "    # function to show the plot\n",
    "    plt.show()"
   ]
  },
  {
   "cell_type": "code",
   "execution_count": 39,
   "id": "834b48e6",
   "metadata": {},
   "outputs": [],
   "source": [
    "def main():\n",
    "    empericalAnalysis2()"
   ]
  },
  {
   "cell_type": "code",
   "execution_count": 40,
   "id": "166169b6",
   "metadata": {},
   "outputs": [
    {
     "data": {
      "image/png": "[encoded data removed]",
      "text/plain": [
       "<Figure size 432x288 with 1 Axes>"
      ]
     },
     "metadata": {
      "needs_background": "light"
     },
     "output_type": "display_data"
    }
   ],
   "source": [
    "if __name__ == \"__main__\":\n",
    "    main()"
   ]
  },
  {
   "cell_type": "code",
   "execution_count": null,
   "id": "364412b7",
   "metadata": {},
   "outputs": [],
   "source": []
  }
 ],
 "metadata": {
  "kernelspec": {
   "display_name": "Python 3",
   "language": "python",
   "name": "python3"
  },
  "language_info": {
   "codemirror_mode": {
    "name": "ipython",
    "version": 3
   },
   "file_extension": ".py",
   "mimetype": "text/x-python",
   "name": "python",
   "nbconvert_exporter": "python",
   "pygments_lexer": "ipython3",
   "version": "3.8.8"
  }
 },
 "nbformat": 4,
 "nbformat_minor": 5
}
